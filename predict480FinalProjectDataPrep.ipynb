{
 "cells": [
  {
   "cell_type": "code",
   "execution_count": 1,
   "metadata": {
    "collapsed": true
   },
   "outputs": [],
   "source": [
    "#supress warning message\n",
    "import warnings; warnings.simplefilter(\"ignore\")\n"
   ]
  },
  {
   "cell_type": "code",
   "execution_count": 2,
   "metadata": {
    "collapsed": false
   },
   "outputs": [],
   "source": [
    "#import some extension libraries\n",
    "%matplotlib inline\n",
    "import matplotlib.pyplot as plt\n",
    "#import seaborn as sns\n",
    "import numpy as np\n",
    "import pandas as pd #import pandas library\n",
    "\n"
   ]
  },
  {
   "cell_type": "code",
   "execution_count": null,
   "metadata": {
    "collapsed": false
   },
   "outputs": [],
   "source": []
  },
  {
   "cell_type": "code",
   "execution_count": 3,
   "metadata": {
    "collapsed": true
   },
   "outputs": [],
   "source": [
    "superstore = pd.ExcelFile(r'/Users/ishmaelamin/Documents/Northwestern_University/2016_Fall/Predict_480/480_Group_Final_Project/Superstore_Sales_Data.xlsx')"
   ]
  },
  {
   "cell_type": "code",
   "execution_count": 4,
   "metadata": {
    "collapsed": true
   },
   "outputs": [],
   "source": [
    "sheet_1 = pd.read_excel(r'/Users/ishmaelamin/Documents/Northwestern_University/2016_Fall/Predict_480/480_Group_Final_Project/Superstore_Sales_Data.xlsx',sheetname=0)"
   ]
  },
  {
   "cell_type": "code",
   "execution_count": 5,
   "metadata": {
    "collapsed": true
   },
   "outputs": [],
   "source": [
    "sheet_2 = pd.read_excel(r'/Users/ishmaelamin/Documents/Northwestern_University/2016_Fall/Predict_480/480_Group_Final_Project/Superstore_Sales_Data.xlsx',sheetname=1)"
   ]
  },
  {
   "cell_type": "code",
   "execution_count": 6,
   "metadata": {
    "collapsed": false
   },
   "outputs": [
    {
     "name": "stdout",
     "output_type": "stream",
     "text": [
      "['External', 'Internal']\n",
      "There are 2 sheets in the workbook\n"
     ]
    }
   ],
   "source": [
    "#display worksheet names in the workbook\n",
    "read_sheets_name = superstore.sheet_names\n",
    "print(read_sheets_name)\n",
    "\n",
    "#count sheets in the workbook\n",
    "print(\"There are %d sheets in the workbook\" % len(read_sheets_name))"
   ]
  },
  {
   "cell_type": "code",
   "execution_count": 7,
   "metadata": {
    "collapsed": false
   },
   "outputs": [
    {
     "data": {
      "text/plain": [
       "403"
      ]
     },
     "execution_count": 7,
     "metadata": {},
     "output_type": "execute_result"
    }
   ],
   "source": [
    "#Display the recordsin the first sheet\n",
    "sheet_1.head()\n",
    "len(sheet_1)"
   ]
  },
  {
   "cell_type": "code",
   "execution_count": 8,
   "metadata": {
    "collapsed": false
   },
   "outputs": [
    {
     "data": {
      "text/plain": [
       "18"
      ]
     },
     "execution_count": 8,
     "metadata": {},
     "output_type": "execute_result"
    }
   ],
   "source": [
    "len(sheet_2)"
   ]
  },
  {
   "cell_type": "code",
   "execution_count": 9,
   "metadata": {
    "collapsed": false
   },
   "outputs": [
    {
     "data": {
      "text/html": [
       "<div>\n",
       "<table border=\"1\" class=\"dataframe\">\n",
       "  <thead>\n",
       "    <tr style=\"text-align: right;\">\n",
       "      <th></th>\n",
       "      <th>id</th>\n",
       "      <th>Product_Type_ID</th>\n",
       "      <th>Order_Date</th>\n",
       "      <th>Price</th>\n",
       "    </tr>\n",
       "  </thead>\n",
       "  <tbody>\n",
       "    <tr>\n",
       "      <th>0</th>\n",
       "      <td>1</td>\n",
       "      <td>1</td>\n",
       "      <td>2009-03-22</td>\n",
       "      <td>152.48</td>\n",
       "    </tr>\n",
       "    <tr>\n",
       "      <th>1</th>\n",
       "      <td>2</td>\n",
       "      <td>1</td>\n",
       "      <td>2010-12-22</td>\n",
       "      <td>152.48</td>\n",
       "    </tr>\n",
       "    <tr>\n",
       "      <th>2</th>\n",
       "      <td>3</td>\n",
       "      <td>1</td>\n",
       "      <td>2012-10-28</td>\n",
       "      <td>152.48</td>\n",
       "    </tr>\n",
       "    <tr>\n",
       "      <th>3</th>\n",
       "      <td>4</td>\n",
       "      <td>1</td>\n",
       "      <td>2012-09-24</td>\n",
       "      <td>152.48</td>\n",
       "    </tr>\n",
       "    <tr>\n",
       "      <th>4</th>\n",
       "      <td>5</td>\n",
       "      <td>1</td>\n",
       "      <td>2010-04-20</td>\n",
       "      <td>152.48</td>\n",
       "    </tr>\n",
       "  </tbody>\n",
       "</table>\n",
       "</div>"
      ],
      "text/plain": [
       "   id  Product_Type_ID Order_Date   Price\n",
       "0   1                1 2009-03-22  152.48\n",
       "1   2                1 2010-12-22  152.48\n",
       "2   3                1 2012-10-28  152.48\n",
       "3   4                1 2012-09-24  152.48\n",
       "4   5                1 2010-04-20  152.48"
      ]
     },
     "execution_count": 9,
     "metadata": {},
     "output_type": "execute_result"
    }
   ],
   "source": [
    "sheet_1.ix[:,0:4].head()"
   ]
  },
  {
   "cell_type": "code",
   "execution_count": 10,
   "metadata": {
    "collapsed": false
   },
   "outputs": [
    {
     "ename": "ValueError",
     "evalue": "columns overlap but no suffix specified: Index(['Product_Type_ID'], dtype='object')",
     "output_type": "error",
     "traceback": [
      "\u001b[0;31m---------------------------------------------------------------------------\u001b[0m",
      "\u001b[0;31mValueError\u001b[0m                                Traceback (most recent call last)",
      "\u001b[0;32m<ipython-input-10-d0d73cdb7fe6>\u001b[0m in \u001b[0;36m<module>\u001b[0;34m()\u001b[0m\n\u001b[0;32m----> 1\u001b[0;31m \u001b[0mrows\u001b[0m\u001b[0;34m=\u001b[0m\u001b[0msheet_1\u001b[0m\u001b[0;34m.\u001b[0m\u001b[0mjoin\u001b[0m\u001b[0;34m(\u001b[0m\u001b[0msheet_2\u001b[0m\u001b[0;34m,\u001b[0m\u001b[0mhow\u001b[0m\u001b[0;34m=\u001b[0m\u001b[0;34m'inner'\u001b[0m\u001b[0;34m)\u001b[0m\u001b[0;34m\u001b[0m\u001b[0m\n\u001b[0m",
      "\u001b[0;32m//anaconda/lib/python3.5/site-packages/pandas/core/frame.py\u001b[0m in \u001b[0;36mjoin\u001b[0;34m(self, other, on, how, lsuffix, rsuffix, sort)\u001b[0m\n\u001b[1;32m   4367\u001b[0m         \u001b[0;31m# For SparseDataFrame's benefit\u001b[0m\u001b[0;34m\u001b[0m\u001b[0;34m\u001b[0m\u001b[0m\n\u001b[1;32m   4368\u001b[0m         return self._join_compat(other, on=on, how=how, lsuffix=lsuffix,\n\u001b[0;32m-> 4369\u001b[0;31m                                  rsuffix=rsuffix, sort=sort)\n\u001b[0m\u001b[1;32m   4370\u001b[0m \u001b[0;34m\u001b[0m\u001b[0m\n\u001b[1;32m   4371\u001b[0m     def _join_compat(self, other, on=None, how='left', lsuffix='', rsuffix='',\n",
      "\u001b[0;32m//anaconda/lib/python3.5/site-packages/pandas/core/frame.py\u001b[0m in \u001b[0;36m_join_compat\u001b[0;34m(self, other, on, how, lsuffix, rsuffix, sort)\u001b[0m\n\u001b[1;32m   4381\u001b[0m             return merge(self, other, left_on=on, how=how,\n\u001b[1;32m   4382\u001b[0m                          \u001b[0mleft_index\u001b[0m\u001b[0;34m=\u001b[0m\u001b[0mon\u001b[0m \u001b[0;32mis\u001b[0m \u001b[0;32mNone\u001b[0m\u001b[0;34m,\u001b[0m \u001b[0mright_index\u001b[0m\u001b[0;34m=\u001b[0m\u001b[0;32mTrue\u001b[0m\u001b[0;34m,\u001b[0m\u001b[0;34m\u001b[0m\u001b[0m\n\u001b[0;32m-> 4383\u001b[0;31m                          suffixes=(lsuffix, rsuffix), sort=sort)\n\u001b[0m\u001b[1;32m   4384\u001b[0m         \u001b[0;32melse\u001b[0m\u001b[0;34m:\u001b[0m\u001b[0;34m\u001b[0m\u001b[0m\n\u001b[1;32m   4385\u001b[0m             \u001b[0;32mif\u001b[0m \u001b[0mon\u001b[0m \u001b[0;32mis\u001b[0m \u001b[0;32mnot\u001b[0m \u001b[0;32mNone\u001b[0m\u001b[0;34m:\u001b[0m\u001b[0;34m\u001b[0m\u001b[0m\n",
      "\u001b[0;32m//anaconda/lib/python3.5/site-packages/pandas/tools/merge.py\u001b[0m in \u001b[0;36mmerge\u001b[0;34m(left, right, how, on, left_on, right_on, left_index, right_index, sort, suffixes, copy, indicator)\u001b[0m\n\u001b[1;32m     33\u001b[0m                          \u001b[0mright_index\u001b[0m\u001b[0;34m=\u001b[0m\u001b[0mright_index\u001b[0m\u001b[0;34m,\u001b[0m \u001b[0msort\u001b[0m\u001b[0;34m=\u001b[0m\u001b[0msort\u001b[0m\u001b[0;34m,\u001b[0m \u001b[0msuffixes\u001b[0m\u001b[0;34m=\u001b[0m\u001b[0msuffixes\u001b[0m\u001b[0;34m,\u001b[0m\u001b[0;34m\u001b[0m\u001b[0m\n\u001b[1;32m     34\u001b[0m                          copy=copy, indicator=indicator)\n\u001b[0;32m---> 35\u001b[0;31m     \u001b[0;32mreturn\u001b[0m \u001b[0mop\u001b[0m\u001b[0;34m.\u001b[0m\u001b[0mget_result\u001b[0m\u001b[0;34m(\u001b[0m\u001b[0;34m)\u001b[0m\u001b[0;34m\u001b[0m\u001b[0m\n\u001b[0m\u001b[1;32m     36\u001b[0m \u001b[0;32mif\u001b[0m \u001b[0m__debug__\u001b[0m\u001b[0;34m:\u001b[0m\u001b[0;34m\u001b[0m\u001b[0m\n\u001b[1;32m     37\u001b[0m     \u001b[0mmerge\u001b[0m\u001b[0;34m.\u001b[0m\u001b[0m__doc__\u001b[0m \u001b[0;34m=\u001b[0m \u001b[0m_merge_doc\u001b[0m \u001b[0;34m%\u001b[0m \u001b[0;34m'\\nleft : DataFrame'\u001b[0m\u001b[0;34m\u001b[0m\u001b[0m\n",
      "\u001b[0;32m//anaconda/lib/python3.5/site-packages/pandas/tools/merge.py\u001b[0m in \u001b[0;36mget_result\u001b[0;34m(self)\u001b[0m\n\u001b[1;32m    210\u001b[0m \u001b[0;34m\u001b[0m\u001b[0m\n\u001b[1;32m    211\u001b[0m         llabels, rlabels = items_overlap_with_suffix(ldata.items, lsuf,\n\u001b[0;32m--> 212\u001b[0;31m                                                      rdata.items, rsuf)\n\u001b[0m\u001b[1;32m    213\u001b[0m \u001b[0;34m\u001b[0m\u001b[0m\n\u001b[1;32m    214\u001b[0m         \u001b[0mlindexers\u001b[0m \u001b[0;34m=\u001b[0m \u001b[0;34m{\u001b[0m\u001b[0;36m1\u001b[0m\u001b[0;34m:\u001b[0m \u001b[0mleft_indexer\u001b[0m\u001b[0;34m}\u001b[0m \u001b[0;32mif\u001b[0m \u001b[0mleft_indexer\u001b[0m \u001b[0;32mis\u001b[0m \u001b[0;32mnot\u001b[0m \u001b[0;32mNone\u001b[0m \u001b[0;32melse\u001b[0m \u001b[0;34m{\u001b[0m\u001b[0;34m}\u001b[0m\u001b[0;34m\u001b[0m\u001b[0m\n",
      "\u001b[0;32m//anaconda/lib/python3.5/site-packages/pandas/core/internals.py\u001b[0m in \u001b[0;36mitems_overlap_with_suffix\u001b[0;34m(left, lsuffix, right, rsuffix)\u001b[0m\n\u001b[1;32m   4372\u001b[0m         \u001b[0;32mif\u001b[0m \u001b[0;32mnot\u001b[0m \u001b[0mlsuffix\u001b[0m \u001b[0;32mand\u001b[0m \u001b[0;32mnot\u001b[0m \u001b[0mrsuffix\u001b[0m\u001b[0;34m:\u001b[0m\u001b[0;34m\u001b[0m\u001b[0m\n\u001b[1;32m   4373\u001b[0m             raise ValueError('columns overlap but no suffix specified: %s' %\n\u001b[0;32m-> 4374\u001b[0;31m                              to_rename)\n\u001b[0m\u001b[1;32m   4375\u001b[0m \u001b[0;34m\u001b[0m\u001b[0m\n\u001b[1;32m   4376\u001b[0m         \u001b[0;32mdef\u001b[0m \u001b[0mlrenamer\u001b[0m\u001b[0;34m(\u001b[0m\u001b[0mx\u001b[0m\u001b[0;34m)\u001b[0m\u001b[0;34m:\u001b[0m\u001b[0;34m\u001b[0m\u001b[0m\n",
      "\u001b[0;31mValueError\u001b[0m: columns overlap but no suffix specified: Index(['Product_Type_ID'], dtype='object')"
     ]
    }
   ],
   "source": [
    "#rows=sheet_1.join(sheet_2,how='inner')"
   ]
  },
  {
   "cell_type": "code",
   "execution_count": 11,
   "metadata": {
    "collapsed": false
   },
   "outputs": [
    {
     "data": {
      "text/html": [
       "<div>\n",
       "<table border=\"1\" class=\"dataframe\">\n",
       "  <thead>\n",
       "    <tr style=\"text-align: right;\">\n",
       "      <th></th>\n",
       "      <th>id</th>\n",
       "      <th>Product_Type_ID</th>\n",
       "      <th>Order_Date</th>\n",
       "      <th>Price</th>\n",
       "      <th>Customer_Segment</th>\n",
       "      <th>Product_Category</th>\n",
       "      <th>Product_Sub_Category</th>\n",
       "      <th>Product_Type</th>\n",
       "      <th>Product_Name</th>\n",
       "      <th>Vendor</th>\n",
       "    </tr>\n",
       "  </thead>\n",
       "  <tbody>\n",
       "    <tr>\n",
       "      <th>0</th>\n",
       "      <td>1</td>\n",
       "      <td>1</td>\n",
       "      <td>2009-03-22</td>\n",
       "      <td>152.48</td>\n",
       "      <td>Enterprise</td>\n",
       "      <td>Technology</td>\n",
       "      <td>Computer Components</td>\n",
       "      <td>CPU</td>\n",
       "      <td>Adesso CPU</td>\n",
       "      <td>Adesso</td>\n",
       "    </tr>\n",
       "    <tr>\n",
       "      <th>1</th>\n",
       "      <td>2</td>\n",
       "      <td>1</td>\n",
       "      <td>2010-12-22</td>\n",
       "      <td>152.48</td>\n",
       "      <td>Enterprise</td>\n",
       "      <td>Technology</td>\n",
       "      <td>Computer Components</td>\n",
       "      <td>CPU</td>\n",
       "      <td>Adesso CPU</td>\n",
       "      <td>Adesso</td>\n",
       "    </tr>\n",
       "    <tr>\n",
       "      <th>2</th>\n",
       "      <td>3</td>\n",
       "      <td>1</td>\n",
       "      <td>2012-10-28</td>\n",
       "      <td>152.48</td>\n",
       "      <td>Enterprise</td>\n",
       "      <td>Technology</td>\n",
       "      <td>Computer Components</td>\n",
       "      <td>CPU</td>\n",
       "      <td>Adesso CPU</td>\n",
       "      <td>Adesso</td>\n",
       "    </tr>\n",
       "    <tr>\n",
       "      <th>3</th>\n",
       "      <td>4</td>\n",
       "      <td>1</td>\n",
       "      <td>2012-09-24</td>\n",
       "      <td>152.48</td>\n",
       "      <td>Enterprise</td>\n",
       "      <td>Technology</td>\n",
       "      <td>Computer Components</td>\n",
       "      <td>CPU</td>\n",
       "      <td>Adesso CPU</td>\n",
       "      <td>Adesso</td>\n",
       "    </tr>\n",
       "    <tr>\n",
       "      <th>4</th>\n",
       "      <td>5</td>\n",
       "      <td>1</td>\n",
       "      <td>2010-04-20</td>\n",
       "      <td>152.48</td>\n",
       "      <td>Enterprise</td>\n",
       "      <td>Technology</td>\n",
       "      <td>Computer Components</td>\n",
       "      <td>CPU</td>\n",
       "      <td>Adesso CPU</td>\n",
       "      <td>Adesso</td>\n",
       "    </tr>\n",
       "  </tbody>\n",
       "</table>\n",
       "</div>"
      ],
      "text/plain": [
       "   id  Product_Type_ID Order_Date   Price Customer_Segment Product_Category  \\\n",
       "0   1                1 2009-03-22  152.48       Enterprise       Technology   \n",
       "1   2                1 2010-12-22  152.48       Enterprise       Technology   \n",
       "2   3                1 2012-10-28  152.48       Enterprise       Technology   \n",
       "3   4                1 2012-09-24  152.48       Enterprise       Technology   \n",
       "4   5                1 2010-04-20  152.48       Enterprise       Technology   \n",
       "\n",
       "  Product_Sub_Category Product_Type Product_Name  Vendor  \n",
       "0  Computer Components          CPU   Adesso CPU  Adesso  \n",
       "1  Computer Components          CPU   Adesso CPU  Adesso  \n",
       "2  Computer Components          CPU   Adesso CPU  Adesso  \n",
       "3  Computer Components          CPU   Adesso CPU  Adesso  \n",
       "4  Computer Components          CPU   Adesso CPU  Adesso  "
      ]
     },
     "execution_count": 11,
     "metadata": {},
     "output_type": "execute_result"
    }
   ],
   "source": [
    "#sheet_2.set_index('Product_Type_ID',inplace=True)\n",
    "sheet_1.head()"
   ]
  },
  {
   "cell_type": "code",
   "execution_count": 12,
   "metadata": {
    "collapsed": false
   },
   "outputs": [
    {
     "data": {
      "text/html": [
       "<div>\n",
       "<table border=\"1\" class=\"dataframe\">\n",
       "  <thead>\n",
       "    <tr style=\"text-align: right;\">\n",
       "      <th></th>\n",
       "      <th>id</th>\n",
       "      <th>Order_Date</th>\n",
       "    </tr>\n",
       "  </thead>\n",
       "  <tbody>\n",
       "    <tr>\n",
       "      <th>0</th>\n",
       "      <td>1</td>\n",
       "      <td>2009-03-22</td>\n",
       "    </tr>\n",
       "    <tr>\n",
       "      <th>1</th>\n",
       "      <td>2</td>\n",
       "      <td>2010-12-22</td>\n",
       "    </tr>\n",
       "    <tr>\n",
       "      <th>2</th>\n",
       "      <td>3</td>\n",
       "      <td>2012-10-28</td>\n",
       "    </tr>\n",
       "    <tr>\n",
       "      <th>3</th>\n",
       "      <td>4</td>\n",
       "      <td>2012-09-24</td>\n",
       "    </tr>\n",
       "    <tr>\n",
       "      <th>4</th>\n",
       "      <td>5</td>\n",
       "      <td>2010-04-20</td>\n",
       "    </tr>\n",
       "  </tbody>\n",
       "</table>\n",
       "</div>"
      ],
      "text/plain": [
       "   id Order_Date\n",
       "0   1 2009-03-22\n",
       "1   2 2010-12-22\n",
       "2   3 2012-10-28\n",
       "3   4 2012-09-24\n",
       "4   5 2010-04-20"
      ]
     },
     "execution_count": 12,
     "metadata": {},
     "output_type": "execute_result"
    }
   ],
   "source": [
    "sheet_1[[\"id\",\"Order_Date\"]].head()\n",
    "#sheet_1[[\"Product_Type_ID\",\"Price\"]].head()"
   ]
  },
  {
   "cell_type": "code",
   "execution_count": 13,
   "metadata": {
    "collapsed": false
   },
   "outputs": [],
   "source": [
    "#sheet_1[[\"id\",\"Order_Date\"]].head()\n",
    "sheet_1.set_index('Product_Type_ID',inplace=True)"
   ]
  },
  {
   "cell_type": "code",
   "execution_count": 14,
   "metadata": {
    "collapsed": false
   },
   "outputs": [
    {
     "data": {
      "text/plain": [
       "pandas.core.frame.DataFrame"
      ]
     },
     "execution_count": 14,
     "metadata": {},
     "output_type": "execute_result"
    }
   ],
   "source": [
    "type(sheet_1)"
   ]
  },
  {
   "cell_type": "code",
   "execution_count": 15,
   "metadata": {
    "collapsed": true
   },
   "outputs": [],
   "source": [
    "sheet_2.set_index('Product_Type_ID',inplace=True)"
   ]
  },
  {
   "cell_type": "code",
   "execution_count": 16,
   "metadata": {
    "collapsed": false
   },
   "outputs": [
    {
     "data": {
      "text/html": [
       "<div>\n",
       "<table border=\"1\" class=\"dataframe\">\n",
       "  <thead>\n",
       "    <tr style=\"text-align: right;\">\n",
       "      <th></th>\n",
       "      <th>Internal_Product_Name</th>\n",
       "      <th>Internal_Cost</th>\n",
       "      <th>Internal_Sale_Price</th>\n",
       "    </tr>\n",
       "    <tr>\n",
       "      <th>Product_Type_ID</th>\n",
       "      <th></th>\n",
       "      <th></th>\n",
       "      <th></th>\n",
       "    </tr>\n",
       "  </thead>\n",
       "  <tbody>\n",
       "    <tr>\n",
       "      <th>1</th>\n",
       "      <td>CPU</td>\n",
       "      <td>50</td>\n",
       "      <td>200</td>\n",
       "    </tr>\n",
       "    <tr>\n",
       "      <th>2</th>\n",
       "      <td>Graphics/video card</td>\n",
       "      <td>35</td>\n",
       "      <td>75</td>\n",
       "    </tr>\n",
       "    <tr>\n",
       "      <th>3</th>\n",
       "      <td>Speakers</td>\n",
       "      <td>15</td>\n",
       "      <td>25</td>\n",
       "    </tr>\n",
       "    <tr>\n",
       "      <th>6</th>\n",
       "      <td>Wi-Fi</td>\n",
       "      <td>20</td>\n",
       "      <td>50</td>\n",
       "    </tr>\n",
       "    <tr>\n",
       "      <th>7</th>\n",
       "      <td>Sound card</td>\n",
       "      <td>15</td>\n",
       "      <td>40</td>\n",
       "    </tr>\n",
       "  </tbody>\n",
       "</table>\n",
       "</div>"
      ],
      "text/plain": [
       "                Internal_Product_Name  Internal_Cost  Internal_Sale_Price\n",
       "Product_Type_ID                                                          \n",
       "1                                 CPU             50                  200\n",
       "2                 Graphics/video card             35                   75\n",
       "3                            Speakers             15                   25\n",
       "6                               Wi-Fi             20                   50\n",
       "7                          Sound card             15                   40"
      ]
     },
     "execution_count": 16,
     "metadata": {},
     "output_type": "execute_result"
    }
   ],
   "source": [
    "sheet_2.head()"
   ]
  },
  {
   "cell_type": "code",
   "execution_count": 70,
   "metadata": {
    "collapsed": false
   },
   "outputs": [],
   "source": [
    "#result = pd.merge(sheet_1, sheet_2, how='left', on=['Product_Type_ID'])\n",
    "internal = sheet_1.join(sheet_2)"
   ]
  },
  {
   "cell_type": "code",
   "execution_count": 71,
   "metadata": {
    "collapsed": false
   },
   "outputs": [
    {
     "data": {
      "text/plain": [
       "403"
      ]
     },
     "execution_count": 71,
     "metadata": {},
     "output_type": "execute_result"
    }
   ],
   "source": [
    "len(internal)"
   ]
  },
  {
   "cell_type": "code",
   "execution_count": 72,
   "metadata": {
    "collapsed": false
   },
   "outputs": [
    {
     "data": {
      "text/plain": [
       "403"
      ]
     },
     "execution_count": 72,
     "metadata": {},
     "output_type": "execute_result"
    }
   ],
   "source": [
    "len(internal)"
   ]
  },
  {
   "cell_type": "code",
   "execution_count": 67,
   "metadata": {
    "collapsed": false
   },
   "outputs": [],
   "source": [
    "#internal  = internal.drop"
   ]
  },
  {
   "cell_type": "code",
   "execution_count": 68,
   "metadata": {
    "collapsed": false
   },
   "outputs": [
    {
     "ename": "TypeError",
     "evalue": "object of type 'method' has no len()",
     "output_type": "error",
     "traceback": [
      "\u001b[0;31m---------------------------------------------------------------------------\u001b[0m",
      "\u001b[0;31mTypeError\u001b[0m                                 Traceback (most recent call last)",
      "\u001b[0;32m<ipython-input-68-2ff09ec1282a>\u001b[0m in \u001b[0;36m<module>\u001b[0;34m()\u001b[0m\n\u001b[0;32m----> 1\u001b[0;31m \u001b[0mlen\u001b[0m\u001b[0;34m(\u001b[0m\u001b[0minternal\u001b[0m\u001b[0;34m)\u001b[0m\u001b[0;34m\u001b[0m\u001b[0m\n\u001b[0m",
      "\u001b[0;31mTypeError\u001b[0m: object of type 'method' has no len()"
     ]
    }
   ],
   "source": []
  },
  {
   "cell_type": "code",
   "execution_count": 73,
   "metadata": {
    "collapsed": false
   },
   "outputs": [],
   "source": [
    "internal = internal[[\"id\",\"Order_Date\",\"Internal_Sale_Price\",\"Customer_Segment\",\"Product_Category\",\"Product_Sub_Category\",\"Product_Type\",\"Internal_Product_Name\",\"Vendor\"]]"
   ]
  },
  {
   "cell_type": "code",
   "execution_count": 74,
   "metadata": {
    "collapsed": true
   },
   "outputs": [],
   "source": [
    "internal['Business_Type'] = pd.Series('internal', index=internal.index)"
   ]
  },
  {
   "cell_type": "code",
   "execution_count": 75,
   "metadata": {
    "collapsed": false
   },
   "outputs": [
    {
     "data": {
      "text/html": [
       "<div>\n",
       "<table border=\"1\" class=\"dataframe\">\n",
       "  <thead>\n",
       "    <tr style=\"text-align: right;\">\n",
       "      <th></th>\n",
       "      <th>id</th>\n",
       "      <th>Order_Date</th>\n",
       "      <th>Internal_Sale_Price</th>\n",
       "      <th>Customer_Segment</th>\n",
       "      <th>Product_Category</th>\n",
       "      <th>Product_Sub_Category</th>\n",
       "      <th>Product_Type</th>\n",
       "      <th>Internal_Product_Name</th>\n",
       "      <th>Vendor</th>\n",
       "      <th>Business_Type</th>\n",
       "    </tr>\n",
       "    <tr>\n",
       "      <th>Product_Type_ID</th>\n",
       "      <th></th>\n",
       "      <th></th>\n",
       "      <th></th>\n",
       "      <th></th>\n",
       "      <th></th>\n",
       "      <th></th>\n",
       "      <th></th>\n",
       "      <th></th>\n",
       "      <th></th>\n",
       "      <th></th>\n",
       "    </tr>\n",
       "  </thead>\n",
       "  <tbody>\n",
       "    <tr>\n",
       "      <th>1</th>\n",
       "      <td>1</td>\n",
       "      <td>2009-03-22</td>\n",
       "      <td>200</td>\n",
       "      <td>Enterprise</td>\n",
       "      <td>Technology</td>\n",
       "      <td>Computer Components</td>\n",
       "      <td>CPU</td>\n",
       "      <td>CPU</td>\n",
       "      <td>Adesso</td>\n",
       "      <td>internal</td>\n",
       "    </tr>\n",
       "    <tr>\n",
       "      <th>1</th>\n",
       "      <td>2</td>\n",
       "      <td>2010-12-22</td>\n",
       "      <td>200</td>\n",
       "      <td>Enterprise</td>\n",
       "      <td>Technology</td>\n",
       "      <td>Computer Components</td>\n",
       "      <td>CPU</td>\n",
       "      <td>CPU</td>\n",
       "      <td>Adesso</td>\n",
       "      <td>internal</td>\n",
       "    </tr>\n",
       "    <tr>\n",
       "      <th>1</th>\n",
       "      <td>3</td>\n",
       "      <td>2012-10-28</td>\n",
       "      <td>200</td>\n",
       "      <td>Enterprise</td>\n",
       "      <td>Technology</td>\n",
       "      <td>Computer Components</td>\n",
       "      <td>CPU</td>\n",
       "      <td>CPU</td>\n",
       "      <td>Adesso</td>\n",
       "      <td>internal</td>\n",
       "    </tr>\n",
       "    <tr>\n",
       "      <th>1</th>\n",
       "      <td>4</td>\n",
       "      <td>2012-09-24</td>\n",
       "      <td>200</td>\n",
       "      <td>Enterprise</td>\n",
       "      <td>Technology</td>\n",
       "      <td>Computer Components</td>\n",
       "      <td>CPU</td>\n",
       "      <td>CPU</td>\n",
       "      <td>Adesso</td>\n",
       "      <td>internal</td>\n",
       "    </tr>\n",
       "    <tr>\n",
       "      <th>1</th>\n",
       "      <td>5</td>\n",
       "      <td>2010-04-20</td>\n",
       "      <td>200</td>\n",
       "      <td>Enterprise</td>\n",
       "      <td>Technology</td>\n",
       "      <td>Computer Components</td>\n",
       "      <td>CPU</td>\n",
       "      <td>CPU</td>\n",
       "      <td>Adesso</td>\n",
       "      <td>internal</td>\n",
       "    </tr>\n",
       "  </tbody>\n",
       "</table>\n",
       "</div>"
      ],
      "text/plain": [
       "                 id Order_Date  Internal_Sale_Price Customer_Segment  \\\n",
       "Product_Type_ID                                                        \n",
       "1                 1 2009-03-22                  200       Enterprise   \n",
       "1                 2 2010-12-22                  200       Enterprise   \n",
       "1                 3 2012-10-28                  200       Enterprise   \n",
       "1                 4 2012-09-24                  200       Enterprise   \n",
       "1                 5 2010-04-20                  200       Enterprise   \n",
       "\n",
       "                Product_Category Product_Sub_Category Product_Type  \\\n",
       "Product_Type_ID                                                      \n",
       "1                     Technology  Computer Components          CPU   \n",
       "1                     Technology  Computer Components          CPU   \n",
       "1                     Technology  Computer Components          CPU   \n",
       "1                     Technology  Computer Components          CPU   \n",
       "1                     Technology  Computer Components          CPU   \n",
       "\n",
       "                Internal_Product_Name  Vendor Business_Type  \n",
       "Product_Type_ID                                              \n",
       "1                                 CPU  Adesso      internal  \n",
       "1                                 CPU  Adesso      internal  \n",
       "1                                 CPU  Adesso      internal  \n",
       "1                                 CPU  Adesso      internal  \n",
       "1                                 CPU  Adesso      internal  "
      ]
     },
     "execution_count": 75,
     "metadata": {},
     "output_type": "execute_result"
    }
   ],
   "source": [
    "internal.head()"
   ]
  },
  {
   "cell_type": "code",
   "execution_count": 76,
   "metadata": {
    "collapsed": false
   },
   "outputs": [],
   "source": [
    "internal.columns = [\"id\",\"Order_Date\",\"Price\",\"Customer_Segment\",\"Product_Category\",\"Product_Sub_Category\",\"Product_Type\",\"Product_Name\",\"Vendor\",\"Business_Type\"]"
   ]
  },
  {
   "cell_type": "code",
   "execution_count": 77,
   "metadata": {
    "collapsed": false
   },
   "outputs": [
    {
     "data": {
      "text/html": [
       "<div>\n",
       "<table border=\"1\" class=\"dataframe\">\n",
       "  <thead>\n",
       "    <tr style=\"text-align: right;\">\n",
       "      <th></th>\n",
       "      <th>id</th>\n",
       "      <th>Order_Date</th>\n",
       "      <th>Price</th>\n",
       "      <th>Customer_Segment</th>\n",
       "      <th>Product_Category</th>\n",
       "      <th>Product_Sub_Category</th>\n",
       "      <th>Product_Type</th>\n",
       "      <th>Product_Name</th>\n",
       "      <th>Vendor</th>\n",
       "      <th>Business_Type</th>\n",
       "    </tr>\n",
       "    <tr>\n",
       "      <th>Product_Type_ID</th>\n",
       "      <th></th>\n",
       "      <th></th>\n",
       "      <th></th>\n",
       "      <th></th>\n",
       "      <th></th>\n",
       "      <th></th>\n",
       "      <th></th>\n",
       "      <th></th>\n",
       "      <th></th>\n",
       "      <th></th>\n",
       "    </tr>\n",
       "  </thead>\n",
       "  <tbody>\n",
       "    <tr>\n",
       "      <th>1</th>\n",
       "      <td>1</td>\n",
       "      <td>2009-03-22</td>\n",
       "      <td>200</td>\n",
       "      <td>Enterprise</td>\n",
       "      <td>Technology</td>\n",
       "      <td>Computer Components</td>\n",
       "      <td>CPU</td>\n",
       "      <td>CPU</td>\n",
       "      <td>Adesso</td>\n",
       "      <td>internal</td>\n",
       "    </tr>\n",
       "    <tr>\n",
       "      <th>1</th>\n",
       "      <td>2</td>\n",
       "      <td>2010-12-22</td>\n",
       "      <td>200</td>\n",
       "      <td>Enterprise</td>\n",
       "      <td>Technology</td>\n",
       "      <td>Computer Components</td>\n",
       "      <td>CPU</td>\n",
       "      <td>CPU</td>\n",
       "      <td>Adesso</td>\n",
       "      <td>internal</td>\n",
       "    </tr>\n",
       "    <tr>\n",
       "      <th>1</th>\n",
       "      <td>3</td>\n",
       "      <td>2012-10-28</td>\n",
       "      <td>200</td>\n",
       "      <td>Enterprise</td>\n",
       "      <td>Technology</td>\n",
       "      <td>Computer Components</td>\n",
       "      <td>CPU</td>\n",
       "      <td>CPU</td>\n",
       "      <td>Adesso</td>\n",
       "      <td>internal</td>\n",
       "    </tr>\n",
       "    <tr>\n",
       "      <th>1</th>\n",
       "      <td>4</td>\n",
       "      <td>2012-09-24</td>\n",
       "      <td>200</td>\n",
       "      <td>Enterprise</td>\n",
       "      <td>Technology</td>\n",
       "      <td>Computer Components</td>\n",
       "      <td>CPU</td>\n",
       "      <td>CPU</td>\n",
       "      <td>Adesso</td>\n",
       "      <td>internal</td>\n",
       "    </tr>\n",
       "    <tr>\n",
       "      <th>1</th>\n",
       "      <td>5</td>\n",
       "      <td>2010-04-20</td>\n",
       "      <td>200</td>\n",
       "      <td>Enterprise</td>\n",
       "      <td>Technology</td>\n",
       "      <td>Computer Components</td>\n",
       "      <td>CPU</td>\n",
       "      <td>CPU</td>\n",
       "      <td>Adesso</td>\n",
       "      <td>internal</td>\n",
       "    </tr>\n",
       "  </tbody>\n",
       "</table>\n",
       "</div>"
      ],
      "text/plain": [
       "                 id Order_Date  Price Customer_Segment Product_Category  \\\n",
       "Product_Type_ID                                                           \n",
       "1                 1 2009-03-22    200       Enterprise       Technology   \n",
       "1                 2 2010-12-22    200       Enterprise       Technology   \n",
       "1                 3 2012-10-28    200       Enterprise       Technology   \n",
       "1                 4 2012-09-24    200       Enterprise       Technology   \n",
       "1                 5 2010-04-20    200       Enterprise       Technology   \n",
       "\n",
       "                Product_Sub_Category Product_Type Product_Name  Vendor  \\\n",
       "Product_Type_ID                                                          \n",
       "1                Computer Components          CPU          CPU  Adesso   \n",
       "1                Computer Components          CPU          CPU  Adesso   \n",
       "1                Computer Components          CPU          CPU  Adesso   \n",
       "1                Computer Components          CPU          CPU  Adesso   \n",
       "1                Computer Components          CPU          CPU  Adesso   \n",
       "\n",
       "                Business_Type  \n",
       "Product_Type_ID                \n",
       "1                    internal  \n",
       "1                    internal  \n",
       "1                    internal  \n",
       "1                    internal  \n",
       "1                    internal  "
      ]
     },
     "execution_count": 77,
     "metadata": {},
     "output_type": "execute_result"
    }
   ],
   "source": [
    "internal.ix[0:5,:].head()\n"
   ]
  },
  {
   "cell_type": "code",
   "execution_count": 78,
   "metadata": {
    "collapsed": true
   },
   "outputs": [],
   "source": [
    "external=sheet_1"
   ]
  },
  {
   "cell_type": "code",
   "execution_count": 79,
   "metadata": {
    "collapsed": false
   },
   "outputs": [],
   "source": [
    "# append column to both datasets that distinguish them as either internal or external\n",
    "external['Business_Type'] = pd.Series('external', index=external.index)\n",
    "#s = pd.Series('data', index=index)\n",
    "#import Series as srs\n"
   ]
  },
  {
   "cell_type": "code",
   "execution_count": 80,
   "metadata": {
    "collapsed": false
   },
   "outputs": [
    {
     "data": {
      "text/html": [
       "<div>\n",
       "<table border=\"1\" class=\"dataframe\">\n",
       "  <thead>\n",
       "    <tr style=\"text-align: right;\">\n",
       "      <th></th>\n",
       "      <th>id</th>\n",
       "      <th>Order_Date</th>\n",
       "      <th>Price</th>\n",
       "      <th>Customer_Segment</th>\n",
       "      <th>Product_Category</th>\n",
       "      <th>Product_Sub_Category</th>\n",
       "      <th>Product_Type</th>\n",
       "      <th>Product_Name</th>\n",
       "      <th>Vendor</th>\n",
       "      <th>Business_Type</th>\n",
       "    </tr>\n",
       "    <tr>\n",
       "      <th>Product_Type_ID</th>\n",
       "      <th></th>\n",
       "      <th></th>\n",
       "      <th></th>\n",
       "      <th></th>\n",
       "      <th></th>\n",
       "      <th></th>\n",
       "      <th></th>\n",
       "      <th></th>\n",
       "      <th></th>\n",
       "      <th></th>\n",
       "    </tr>\n",
       "  </thead>\n",
       "  <tbody>\n",
       "    <tr>\n",
       "      <th>1</th>\n",
       "      <td>1</td>\n",
       "      <td>2009-03-22</td>\n",
       "      <td>152.48</td>\n",
       "      <td>Enterprise</td>\n",
       "      <td>Technology</td>\n",
       "      <td>Computer Components</td>\n",
       "      <td>CPU</td>\n",
       "      <td>Adesso CPU</td>\n",
       "      <td>Adesso</td>\n",
       "      <td>external</td>\n",
       "    </tr>\n",
       "    <tr>\n",
       "      <th>1</th>\n",
       "      <td>2</td>\n",
       "      <td>2010-12-22</td>\n",
       "      <td>152.48</td>\n",
       "      <td>Enterprise</td>\n",
       "      <td>Technology</td>\n",
       "      <td>Computer Components</td>\n",
       "      <td>CPU</td>\n",
       "      <td>Adesso CPU</td>\n",
       "      <td>Adesso</td>\n",
       "      <td>external</td>\n",
       "    </tr>\n",
       "    <tr>\n",
       "      <th>1</th>\n",
       "      <td>3</td>\n",
       "      <td>2012-10-28</td>\n",
       "      <td>152.48</td>\n",
       "      <td>Enterprise</td>\n",
       "      <td>Technology</td>\n",
       "      <td>Computer Components</td>\n",
       "      <td>CPU</td>\n",
       "      <td>Adesso CPU</td>\n",
       "      <td>Adesso</td>\n",
       "      <td>external</td>\n",
       "    </tr>\n",
       "    <tr>\n",
       "      <th>1</th>\n",
       "      <td>4</td>\n",
       "      <td>2012-09-24</td>\n",
       "      <td>152.48</td>\n",
       "      <td>Enterprise</td>\n",
       "      <td>Technology</td>\n",
       "      <td>Computer Components</td>\n",
       "      <td>CPU</td>\n",
       "      <td>Adesso CPU</td>\n",
       "      <td>Adesso</td>\n",
       "      <td>external</td>\n",
       "    </tr>\n",
       "    <tr>\n",
       "      <th>1</th>\n",
       "      <td>5</td>\n",
       "      <td>2010-04-20</td>\n",
       "      <td>152.48</td>\n",
       "      <td>Enterprise</td>\n",
       "      <td>Technology</td>\n",
       "      <td>Computer Components</td>\n",
       "      <td>CPU</td>\n",
       "      <td>Adesso CPU</td>\n",
       "      <td>Adesso</td>\n",
       "      <td>external</td>\n",
       "    </tr>\n",
       "  </tbody>\n",
       "</table>\n",
       "</div>"
      ],
      "text/plain": [
       "                 id Order_Date   Price Customer_Segment Product_Category  \\\n",
       "Product_Type_ID                                                            \n",
       "1                 1 2009-03-22  152.48       Enterprise       Technology   \n",
       "1                 2 2010-12-22  152.48       Enterprise       Technology   \n",
       "1                 3 2012-10-28  152.48       Enterprise       Technology   \n",
       "1                 4 2012-09-24  152.48       Enterprise       Technology   \n",
       "1                 5 2010-04-20  152.48       Enterprise       Technology   \n",
       "\n",
       "                Product_Sub_Category Product_Type Product_Name  Vendor  \\\n",
       "Product_Type_ID                                                          \n",
       "1                Computer Components          CPU   Adesso CPU  Adesso   \n",
       "1                Computer Components          CPU   Adesso CPU  Adesso   \n",
       "1                Computer Components          CPU   Adesso CPU  Adesso   \n",
       "1                Computer Components          CPU   Adesso CPU  Adesso   \n",
       "1                Computer Components          CPU   Adesso CPU  Adesso   \n",
       "\n",
       "                Business_Type  \n",
       "Product_Type_ID                \n",
       "1                    external  \n",
       "1                    external  \n",
       "1                    external  \n",
       "1                    external  \n",
       "1                    external  "
      ]
     },
     "execution_count": 80,
     "metadata": {},
     "output_type": "execute_result"
    }
   ],
   "source": [
    "external.head()"
   ]
  },
  {
   "cell_type": "code",
   "execution_count": 81,
   "metadata": {
    "collapsed": false
   },
   "outputs": [
    {
     "data": {
      "text/html": [
       "<div>\n",
       "<table border=\"1\" class=\"dataframe\">\n",
       "  <thead>\n",
       "    <tr style=\"text-align: right;\">\n",
       "      <th></th>\n",
       "      <th>id</th>\n",
       "      <th>Order_Date</th>\n",
       "      <th>Price</th>\n",
       "      <th>Customer_Segment</th>\n",
       "      <th>Product_Category</th>\n",
       "      <th>Product_Sub_Category</th>\n",
       "      <th>Product_Type</th>\n",
       "      <th>Product_Name</th>\n",
       "      <th>Vendor</th>\n",
       "      <th>Business_Type</th>\n",
       "    </tr>\n",
       "    <tr>\n",
       "      <th>Product_Type_ID</th>\n",
       "      <th></th>\n",
       "      <th></th>\n",
       "      <th></th>\n",
       "      <th></th>\n",
       "      <th></th>\n",
       "      <th></th>\n",
       "      <th></th>\n",
       "      <th></th>\n",
       "      <th></th>\n",
       "      <th></th>\n",
       "    </tr>\n",
       "  </thead>\n",
       "  <tbody>\n",
       "    <tr>\n",
       "      <th>1</th>\n",
       "      <td>1</td>\n",
       "      <td>2009-03-22</td>\n",
       "      <td>200</td>\n",
       "      <td>Enterprise</td>\n",
       "      <td>Technology</td>\n",
       "      <td>Computer Components</td>\n",
       "      <td>CPU</td>\n",
       "      <td>CPU</td>\n",
       "      <td>Adesso</td>\n",
       "      <td>internal</td>\n",
       "    </tr>\n",
       "    <tr>\n",
       "      <th>1</th>\n",
       "      <td>2</td>\n",
       "      <td>2010-12-22</td>\n",
       "      <td>200</td>\n",
       "      <td>Enterprise</td>\n",
       "      <td>Technology</td>\n",
       "      <td>Computer Components</td>\n",
       "      <td>CPU</td>\n",
       "      <td>CPU</td>\n",
       "      <td>Adesso</td>\n",
       "      <td>internal</td>\n",
       "    </tr>\n",
       "    <tr>\n",
       "      <th>1</th>\n",
       "      <td>3</td>\n",
       "      <td>2012-10-28</td>\n",
       "      <td>200</td>\n",
       "      <td>Enterprise</td>\n",
       "      <td>Technology</td>\n",
       "      <td>Computer Components</td>\n",
       "      <td>CPU</td>\n",
       "      <td>CPU</td>\n",
       "      <td>Adesso</td>\n",
       "      <td>internal</td>\n",
       "    </tr>\n",
       "    <tr>\n",
       "      <th>1</th>\n",
       "      <td>4</td>\n",
       "      <td>2012-09-24</td>\n",
       "      <td>200</td>\n",
       "      <td>Enterprise</td>\n",
       "      <td>Technology</td>\n",
       "      <td>Computer Components</td>\n",
       "      <td>CPU</td>\n",
       "      <td>CPU</td>\n",
       "      <td>Adesso</td>\n",
       "      <td>internal</td>\n",
       "    </tr>\n",
       "    <tr>\n",
       "      <th>1</th>\n",
       "      <td>5</td>\n",
       "      <td>2010-04-20</td>\n",
       "      <td>200</td>\n",
       "      <td>Enterprise</td>\n",
       "      <td>Technology</td>\n",
       "      <td>Computer Components</td>\n",
       "      <td>CPU</td>\n",
       "      <td>CPU</td>\n",
       "      <td>Adesso</td>\n",
       "      <td>internal</td>\n",
       "    </tr>\n",
       "  </tbody>\n",
       "</table>\n",
       "</div>"
      ],
      "text/plain": [
       "                 id Order_Date  Price Customer_Segment Product_Category  \\\n",
       "Product_Type_ID                                                           \n",
       "1                 1 2009-03-22    200       Enterprise       Technology   \n",
       "1                 2 2010-12-22    200       Enterprise       Technology   \n",
       "1                 3 2012-10-28    200       Enterprise       Technology   \n",
       "1                 4 2012-09-24    200       Enterprise       Technology   \n",
       "1                 5 2010-04-20    200       Enterprise       Technology   \n",
       "\n",
       "                Product_Sub_Category Product_Type Product_Name  Vendor  \\\n",
       "Product_Type_ID                                                          \n",
       "1                Computer Components          CPU          CPU  Adesso   \n",
       "1                Computer Components          CPU          CPU  Adesso   \n",
       "1                Computer Components          CPU          CPU  Adesso   \n",
       "1                Computer Components          CPU          CPU  Adesso   \n",
       "1                Computer Components          CPU          CPU  Adesso   \n",
       "\n",
       "                Business_Type  \n",
       "Product_Type_ID                \n",
       "1                    internal  \n",
       "1                    internal  \n",
       "1                    internal  \n",
       "1                    internal  \n",
       "1                    internal  "
      ]
     },
     "execution_count": 81,
     "metadata": {},
     "output_type": "execute_result"
    }
   ],
   "source": [
    "internal.head()"
   ]
  },
  {
   "cell_type": "code",
   "execution_count": 82,
   "metadata": {
    "collapsed": false
   },
   "outputs": [],
   "source": [
    "result = pd.concat([external, internal], ignore_index=True)"
   ]
  },
  {
   "cell_type": "code",
   "execution_count": 83,
   "metadata": {
    "collapsed": false
   },
   "outputs": [
    {
     "data": {
      "text/plain": [
       "806"
      ]
     },
     "execution_count": 83,
     "metadata": {},
     "output_type": "execute_result"
    }
   ],
   "source": [
    "len(result)"
   ]
  },
  {
   "cell_type": "code",
   "execution_count": 84,
   "metadata": {
    "collapsed": false
   },
   "outputs": [
    {
     "data": {
      "text/html": [
       "<div>\n",
       "<table border=\"1\" class=\"dataframe\">\n",
       "  <thead>\n",
       "    <tr style=\"text-align: right;\">\n",
       "      <th></th>\n",
       "      <th>id</th>\n",
       "      <th>Order_Date</th>\n",
       "      <th>Price</th>\n",
       "      <th>Customer_Segment</th>\n",
       "      <th>Product_Category</th>\n",
       "      <th>Product_Sub_Category</th>\n",
       "      <th>Product_Type</th>\n",
       "      <th>Product_Name</th>\n",
       "      <th>Vendor</th>\n",
       "      <th>Business_Type</th>\n",
       "    </tr>\n",
       "  </thead>\n",
       "  <tbody>\n",
       "    <tr>\n",
       "      <th>0</th>\n",
       "      <td>1</td>\n",
       "      <td>2009-03-22</td>\n",
       "      <td>152.48</td>\n",
       "      <td>Enterprise</td>\n",
       "      <td>Technology</td>\n",
       "      <td>Computer Components</td>\n",
       "      <td>CPU</td>\n",
       "      <td>Adesso CPU</td>\n",
       "      <td>Adesso</td>\n",
       "      <td>external</td>\n",
       "    </tr>\n",
       "    <tr>\n",
       "      <th>1</th>\n",
       "      <td>2</td>\n",
       "      <td>2010-12-22</td>\n",
       "      <td>152.48</td>\n",
       "      <td>Enterprise</td>\n",
       "      <td>Technology</td>\n",
       "      <td>Computer Components</td>\n",
       "      <td>CPU</td>\n",
       "      <td>Adesso CPU</td>\n",
       "      <td>Adesso</td>\n",
       "      <td>external</td>\n",
       "    </tr>\n",
       "    <tr>\n",
       "      <th>2</th>\n",
       "      <td>3</td>\n",
       "      <td>2012-10-28</td>\n",
       "      <td>152.48</td>\n",
       "      <td>Enterprise</td>\n",
       "      <td>Technology</td>\n",
       "      <td>Computer Components</td>\n",
       "      <td>CPU</td>\n",
       "      <td>Adesso CPU</td>\n",
       "      <td>Adesso</td>\n",
       "      <td>external</td>\n",
       "    </tr>\n",
       "    <tr>\n",
       "      <th>3</th>\n",
       "      <td>4</td>\n",
       "      <td>2012-09-24</td>\n",
       "      <td>152.48</td>\n",
       "      <td>Enterprise</td>\n",
       "      <td>Technology</td>\n",
       "      <td>Computer Components</td>\n",
       "      <td>CPU</td>\n",
       "      <td>Adesso CPU</td>\n",
       "      <td>Adesso</td>\n",
       "      <td>external</td>\n",
       "    </tr>\n",
       "    <tr>\n",
       "      <th>4</th>\n",
       "      <td>5</td>\n",
       "      <td>2010-04-20</td>\n",
       "      <td>152.48</td>\n",
       "      <td>Enterprise</td>\n",
       "      <td>Technology</td>\n",
       "      <td>Computer Components</td>\n",
       "      <td>CPU</td>\n",
       "      <td>Adesso CPU</td>\n",
       "      <td>Adesso</td>\n",
       "      <td>external</td>\n",
       "    </tr>\n",
       "  </tbody>\n",
       "</table>\n",
       "</div>"
      ],
      "text/plain": [
       "   id Order_Date   Price Customer_Segment Product_Category  \\\n",
       "0   1 2009-03-22  152.48       Enterprise       Technology   \n",
       "1   2 2010-12-22  152.48       Enterprise       Technology   \n",
       "2   3 2012-10-28  152.48       Enterprise       Technology   \n",
       "3   4 2012-09-24  152.48       Enterprise       Technology   \n",
       "4   5 2010-04-20  152.48       Enterprise       Technology   \n",
       "\n",
       "  Product_Sub_Category Product_Type Product_Name  Vendor Business_Type  \n",
       "0  Computer Components          CPU   Adesso CPU  Adesso      external  \n",
       "1  Computer Components          CPU   Adesso CPU  Adesso      external  \n",
       "2  Computer Components          CPU   Adesso CPU  Adesso      external  \n",
       "3  Computer Components          CPU   Adesso CPU  Adesso      external  \n",
       "4  Computer Components          CPU   Adesso CPU  Adesso      external  "
      ]
     },
     "execution_count": 84,
     "metadata": {},
     "output_type": "execute_result"
    }
   ],
   "source": [
    "result.head()"
   ]
  },
  {
   "cell_type": "code",
   "execution_count": 85,
   "metadata": {
    "collapsed": true
   },
   "outputs": [],
   "source": [
    "result = result.drop('id', 1)"
   ]
  },
  {
   "cell_type": "code",
   "execution_count": 87,
   "metadata": {
    "collapsed": false
   },
   "outputs": [
    {
     "data": {
      "text/html": [
       "<div>\n",
       "<table border=\"1\" class=\"dataframe\">\n",
       "  <thead>\n",
       "    <tr style=\"text-align: right;\">\n",
       "      <th></th>\n",
       "      <th>Order_Date</th>\n",
       "      <th>Price</th>\n",
       "      <th>Customer_Segment</th>\n",
       "      <th>Product_Category</th>\n",
       "      <th>Product_Sub_Category</th>\n",
       "      <th>Product_Type</th>\n",
       "      <th>Product_Name</th>\n",
       "      <th>Vendor</th>\n",
       "      <th>Business_Type</th>\n",
       "    </tr>\n",
       "  </thead>\n",
       "  <tbody>\n",
       "    <tr>\n",
       "      <th>0</th>\n",
       "      <td>2009-03-22</td>\n",
       "      <td>152.48</td>\n",
       "      <td>Enterprise</td>\n",
       "      <td>Technology</td>\n",
       "      <td>Computer Components</td>\n",
       "      <td>CPU</td>\n",
       "      <td>Adesso CPU</td>\n",
       "      <td>Adesso</td>\n",
       "      <td>external</td>\n",
       "    </tr>\n",
       "    <tr>\n",
       "      <th>1</th>\n",
       "      <td>2010-12-22</td>\n",
       "      <td>152.48</td>\n",
       "      <td>Enterprise</td>\n",
       "      <td>Technology</td>\n",
       "      <td>Computer Components</td>\n",
       "      <td>CPU</td>\n",
       "      <td>Adesso CPU</td>\n",
       "      <td>Adesso</td>\n",
       "      <td>external</td>\n",
       "    </tr>\n",
       "    <tr>\n",
       "      <th>2</th>\n",
       "      <td>2012-10-28</td>\n",
       "      <td>152.48</td>\n",
       "      <td>Enterprise</td>\n",
       "      <td>Technology</td>\n",
       "      <td>Computer Components</td>\n",
       "      <td>CPU</td>\n",
       "      <td>Adesso CPU</td>\n",
       "      <td>Adesso</td>\n",
       "      <td>external</td>\n",
       "    </tr>\n",
       "    <tr>\n",
       "      <th>3</th>\n",
       "      <td>2012-09-24</td>\n",
       "      <td>152.48</td>\n",
       "      <td>Enterprise</td>\n",
       "      <td>Technology</td>\n",
       "      <td>Computer Components</td>\n",
       "      <td>CPU</td>\n",
       "      <td>Adesso CPU</td>\n",
       "      <td>Adesso</td>\n",
       "      <td>external</td>\n",
       "    </tr>\n",
       "    <tr>\n",
       "      <th>4</th>\n",
       "      <td>2010-04-20</td>\n",
       "      <td>152.48</td>\n",
       "      <td>Enterprise</td>\n",
       "      <td>Technology</td>\n",
       "      <td>Computer Components</td>\n",
       "      <td>CPU</td>\n",
       "      <td>Adesso CPU</td>\n",
       "      <td>Adesso</td>\n",
       "      <td>external</td>\n",
       "    </tr>\n",
       "  </tbody>\n",
       "</table>\n",
       "</div>"
      ],
      "text/plain": [
       "  Order_Date   Price Customer_Segment Product_Category Product_Sub_Category  \\\n",
       "0 2009-03-22  152.48       Enterprise       Technology  Computer Components   \n",
       "1 2010-12-22  152.48       Enterprise       Technology  Computer Components   \n",
       "2 2012-10-28  152.48       Enterprise       Technology  Computer Components   \n",
       "3 2012-09-24  152.48       Enterprise       Technology  Computer Components   \n",
       "4 2010-04-20  152.48       Enterprise       Technology  Computer Components   \n",
       "\n",
       "  Product_Type Product_Name  Vendor Business_Type  \n",
       "0          CPU   Adesso CPU  Adesso      external  \n",
       "1          CPU   Adesso CPU  Adesso      external  \n",
       "2          CPU   Adesso CPU  Adesso      external  \n",
       "3          CPU   Adesso CPU  Adesso      external  \n",
       "4          CPU   Adesso CPU  Adesso      external  "
      ]
     },
     "execution_count": 87,
     "metadata": {},
     "output_type": "execute_result"
    }
   ],
   "source": [
    "result.head()"
   ]
  },
  {
   "cell_type": "code",
   "execution_count": 88,
   "metadata": {
    "collapsed": true
   },
   "outputs": [],
   "source": [
    "#export to file .csv\n",
    "result.to_csv(r'/Users/ishmaelamin/Documents/Northwestern_University/2016_Fall/Predict_480/superstore_businesstypes.csv')"
   ]
  },
  {
   "cell_type": "code",
   "execution_count": null,
   "metadata": {
    "collapsed": true
   },
   "outputs": [],
   "source": []
  }
 ],
 "metadata": {
  "kernelspec": {
   "display_name": "Python 3",
   "language": "python",
   "name": "python3"
  },
  "language_info": {
   "codemirror_mode": {
    "name": "ipython",
    "version": 3
   },
   "file_extension": ".py",
   "mimetype": "text/x-python",
   "name": "python",
   "nbconvert_exporter": "python",
   "pygments_lexer": "ipython3",
   "version": "3.5.1"
  }
 },
 "nbformat": 4,
 "nbformat_minor": 0
}
